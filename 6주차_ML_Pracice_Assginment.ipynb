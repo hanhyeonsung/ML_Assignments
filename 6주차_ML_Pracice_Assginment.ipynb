{
 "cells": [
  {
   "cell_type": "code",
   "execution_count": 619,
   "id": "46e0defc-1c2d-4b4a-a247-54da422f67ac",
   "metadata": {},
   "outputs": [],
   "source": [
    "import numpy as np \n",
    "import pandas as pd \n",
    "import matplotlib.pyplot as plt \n",
    "from sklearn import linear_model\n",
    "from sklearn.model_selection import train_test_split\n",
    "from sklearn.metrics import accuracy_score"
   ]
  },
  {
   "cell_type": "markdown",
   "id": "bd3845d2-c3d9-4005-bc02-a053d7f29622",
   "metadata": {},
   "source": [
    "### 1. 데이터 Loading"
   ]
  },
  {
   "cell_type": "code",
   "execution_count": 621,
   "id": "75347d54-07b7-48f3-b1be-30ecd0f1bdaa",
   "metadata": {},
   "outputs": [
    {
     "data": {
      "text/html": [
       "<div>\n",
       "<style scoped>\n",
       "    .dataframe tbody tr th:only-of-type {\n",
       "        vertical-align: middle;\n",
       "    }\n",
       "\n",
       "    .dataframe tbody tr th {\n",
       "        vertical-align: top;\n",
       "    }\n",
       "\n",
       "    .dataframe thead th {\n",
       "        text-align: right;\n",
       "    }\n",
       "</style>\n",
       "<table border=\"1\" class=\"dataframe\">\n",
       "  <thead>\n",
       "    <tr style=\"text-align: right;\">\n",
       "      <th></th>\n",
       "      <th>User ID</th>\n",
       "      <th>Gender</th>\n",
       "      <th>Age</th>\n",
       "      <th>EstimatedSalary</th>\n",
       "      <th>Purchased</th>\n",
       "    </tr>\n",
       "  </thead>\n",
       "  <tbody>\n",
       "    <tr>\n",
       "      <th>0</th>\n",
       "      <td>15624510</td>\n",
       "      <td>Male</td>\n",
       "      <td>19</td>\n",
       "      <td>19000</td>\n",
       "      <td>0</td>\n",
       "    </tr>\n",
       "    <tr>\n",
       "      <th>1</th>\n",
       "      <td>15810944</td>\n",
       "      <td>Male</td>\n",
       "      <td>35</td>\n",
       "      <td>20000</td>\n",
       "      <td>0</td>\n",
       "    </tr>\n",
       "    <tr>\n",
       "      <th>2</th>\n",
       "      <td>15668575</td>\n",
       "      <td>Female</td>\n",
       "      <td>26</td>\n",
       "      <td>43000</td>\n",
       "      <td>0</td>\n",
       "    </tr>\n",
       "    <tr>\n",
       "      <th>3</th>\n",
       "      <td>15603246</td>\n",
       "      <td>Female</td>\n",
       "      <td>27</td>\n",
       "      <td>57000</td>\n",
       "      <td>0</td>\n",
       "    </tr>\n",
       "    <tr>\n",
       "      <th>4</th>\n",
       "      <td>15804002</td>\n",
       "      <td>Male</td>\n",
       "      <td>19</td>\n",
       "      <td>76000</td>\n",
       "      <td>0</td>\n",
       "    </tr>\n",
       "  </tbody>\n",
       "</table>\n",
       "</div>"
      ],
      "text/plain": [
       "    User ID  Gender  Age  EstimatedSalary  Purchased\n",
       "0  15624510    Male   19            19000          0\n",
       "1  15810944    Male   35            20000          0\n",
       "2  15668575  Female   26            43000          0\n",
       "3  15603246  Female   27            57000          0\n",
       "4  15804002    Male   19            76000          0"
      ]
     },
     "execution_count": 621,
     "metadata": {},
     "output_type": "execute_result"
    }
   ],
   "source": [
    "df = pd.read_csv(\"Social_Network_Ads.csv\")\n",
    "df.head()"
   ]
  },
  {
   "cell_type": "markdown",
   "id": "05acbf70-2320-4bf8-b856-314216dc4312",
   "metadata": {},
   "source": [
    "### 2. 데이터 전처리(preprocessing), Feature 추출"
   ]
  },
  {
   "cell_type": "code",
   "execution_count": 623,
   "id": "18aca59f-9189-417e-b35c-25a6932b4e09",
   "metadata": {},
   "outputs": [
    {
     "data": {
      "text/plain": [
       "(400, 5)"
      ]
     },
     "execution_count": 623,
     "metadata": {},
     "output_type": "execute_result"
    }
   ],
   "source": [
    "df.shape"
   ]
  },
  {
   "cell_type": "code",
   "execution_count": 624,
   "id": "22b14d5a-974b-4787-ae1e-9e8c12075796",
   "metadata": {},
   "outputs": [
    {
     "data": {
      "text/plain": [
       "(400, 1)"
      ]
     },
     "execution_count": 624,
     "metadata": {},
     "output_type": "execute_result"
    }
   ],
   "source": [
    "df['Purchased'].values.reshape(-1,1).shape"
   ]
  },
  {
   "cell_type": "code",
   "execution_count": 625,
   "id": "968f52be-2153-4524-9a40-bcd71f0b67e3",
   "metadata": {
    "scrolled": true
   },
   "outputs": [
    {
     "data": {
      "text/plain": [
       "(400, 1)"
      ]
     },
     "execution_count": 625,
     "metadata": {},
     "output_type": "execute_result"
    }
   ],
   "source": [
    "df['Age'].values.reshape(-1,1).shape"
   ]
  },
  {
   "cell_type": "code",
   "execution_count": 626,
   "id": "99dcef2f-bb78-4293-b8cf-4f9b96819760",
   "metadata": {
    "scrolled": true
   },
   "outputs": [
    {
     "data": {
      "text/plain": [
       "(400, 1)"
      ]
     },
     "execution_count": 626,
     "metadata": {},
     "output_type": "execute_result"
    }
   ],
   "source": [
    "df['EstimatedSalary'].values.reshape(-1,1).shape"
   ]
  },
  {
   "cell_type": "code",
   "execution_count": 627,
   "id": "44930e04-515d-48ec-bf2a-667334fdd3ab",
   "metadata": {},
   "outputs": [],
   "source": [
    "X = np.hstack([np.ones([400, 1]), df['Age'].values.reshape(-1,1), df['EstimatedSalary'].values.reshape(-1,1)])\n",
    "y = df['Purchased'].values.reshape(-1,1)"
   ]
  },
  {
   "cell_type": "markdown",
   "id": "5a945196-311c-4621-95f1-5d444b99f026",
   "metadata": {},
   "source": [
    "### 3. 학습 데이터를 데이터의 80%(320개), 테스트 데이터를 20%(80개)로 분할 사용\r"
   ]
  },
  {
   "cell_type": "code",
   "execution_count": 629,
   "id": "4a71a374-a650-4e9c-bcfb-8f1744076688",
   "metadata": {
    "scrolled": true
   },
   "outputs": [
    {
     "name": "stdout",
     "output_type": "stream",
     "text": [
      "[ 19000.  20000.  43000.  57000.  76000.  58000.  84000. 150000.  33000.\n",
      "  65000.  80000.  52000.  86000.  18000.  82000.  80000.  25000.  26000.\n",
      "  28000.  29000.  22000.  49000.  41000.  22000.  23000.  20000.  28000.\n",
      "  30000.  43000.  18000.  74000. 137000.  16000.  44000.  90000.  27000.\n",
      "  28000.  49000.  72000.  31000.  17000.  51000. 108000.  15000.  84000.\n",
      "  20000.  79000.  54000. 135000.  89000.  32000.  44000.  83000.  23000.\n",
      "  58000.  55000.  48000.  79000.  18000. 117000.  20000.  87000.  66000.\n",
      " 120000.  83000.  58000.  19000.  82000.  63000.  68000.  80000.  27000.\n",
      "  23000. 113000.  18000. 112000.  52000.  27000.  87000.  17000.  80000.\n",
      "  42000.  49000.  88000.  62000. 118000.  55000.  85000.  81000.  50000.\n",
      "  81000. 116000.  15000.  28000.  83000.  44000.  25000. 123000.  73000.\n",
      "  37000.  88000.  59000.  86000. 149000.  21000.  72000.  35000.  89000.\n",
      "  86000.  80000.  71000.  71000.  61000.  55000.  80000.  57000.  75000.\n",
      "  52000.  59000.  59000.  75000.  72000.  75000.  53000.  51000.  61000.\n",
      "  65000.  32000.  17000.  84000.  58000.  31000.  87000.  68000.  55000.\n",
      "  63000.  82000. 107000.  59000.  25000.  85000.  68000.  59000.  89000.\n",
      "  25000.  89000.  96000.  30000.  61000.  74000.  15000.  45000.  76000.\n",
      "  50000.  47000.  15000.  59000.  75000.  30000. 135000. 100000.  90000.\n",
      "  33000.  38000.  69000.  86000.  55000.  71000. 148000.  47000.  88000.\n",
      " 115000. 118000.  43000.  72000.  28000.  47000.  22000.  23000.  34000.\n",
      "  16000.  71000. 117000.  43000.  60000.  66000.  82000.  41000.  72000.\n",
      "  32000.  84000.  26000.  43000.  70000.  89000.  43000.  79000.  36000.\n",
      "  80000.  22000.  39000.  74000. 134000.  71000. 101000.  47000. 130000.\n",
      " 114000. 142000.  22000.  96000. 150000.  42000.  58000.  43000. 108000.\n",
      "  65000.  78000.  96000. 143000.  80000.  91000. 144000. 102000.  60000.\n",
      "  53000. 126000. 133000.  72000.  80000. 147000.  42000. 107000.  86000.\n",
      " 112000.  79000.  57000.  80000.  82000. 143000. 149000.  59000.  88000.\n",
      " 104000.  72000. 146000.  50000. 122000.  52000.  97000.  39000.  52000.\n",
      " 134000. 146000.  44000.  90000.  72000.  57000.  95000. 131000.  77000.\n",
      " 144000. 125000.  72000.  90000. 108000.  75000.  74000. 144000.  61000.\n",
      " 133000.  76000.  42000. 106000.  26000.  74000.  71000.  88000.  38000.\n",
      "  36000.  88000.  61000.  70000.  21000. 141000.  93000.  62000. 138000.\n",
      "  79000.  78000. 134000.  89000.  39000.  77000.  57000.  63000.  73000.\n",
      " 112000.  79000. 117000.  38000.  74000. 137000.  79000.  60000.  54000.\n",
      " 134000. 113000. 125000.  50000.  70000.  96000.  50000. 141000.  79000.\n",
      "  75000. 104000.  55000.  32000.  60000. 138000.  82000.  52000.  30000.\n",
      " 131000.  60000.  72000.  75000. 118000. 107000.  51000. 119000.  65000.\n",
      "  65000.  60000.  54000. 144000.  79000.  55000. 122000. 104000.  75000.\n",
      "  65000.  51000. 105000.  63000.  72000. 108000.  77000.  61000. 113000.\n",
      "  75000.  90000.  57000.  99000.  34000.  70000.  72000.  71000.  54000.\n",
      " 129000.  34000.  50000.  79000. 104000.  29000.  47000.  88000.  71000.\n",
      "  26000.  46000.  83000.  73000. 130000.  80000.  32000.  74000.  53000.\n",
      "  87000.  23000.  64000.  33000. 139000.  28000.  33000.  60000.  39000.\n",
      "  71000.  34000.  35000.  33000.  23000.  45000.  42000.  59000.  41000.\n",
      "  23000.  20000.  33000.  36000.]\n",
      "====================================================================================================\n",
      "[19. 35. 26. 27. 19. 27. 27. 32. 25. 35. 26. 26. 20. 32. 18. 29. 47. 45.\n",
      " 46. 48. 45. 47. 48. 45. 46. 47. 49. 47. 29. 31. 31. 27. 21. 28. 27. 35.\n",
      " 33. 30. 26. 27. 27. 33. 35. 30. 28. 23. 25. 27. 30. 31. 24. 18. 29. 35.\n",
      " 27. 24. 23. 28. 22. 32. 27. 25. 23. 32. 59. 24. 24. 23. 22. 31. 25. 24.\n",
      " 20. 33. 32. 34. 18. 22. 28. 26. 30. 39. 20. 35. 30. 31. 24. 28. 26. 35.\n",
      " 22. 30. 26. 29. 29. 35. 35. 28. 35. 28. 27. 28. 32. 33. 19. 21. 26. 27.\n",
      " 26. 38. 39. 37. 38. 37. 42. 40. 35. 36. 40. 41. 36. 37. 40. 35. 41. 39.\n",
      " 42. 26. 30. 26. 31. 33. 30. 21. 28. 23. 20. 30. 28. 19. 19. 18. 35. 30.\n",
      " 34. 24. 27. 41. 29. 20. 26. 41. 31. 36. 40. 31. 46. 29. 26. 32. 32. 25.\n",
      " 37. 35. 33. 18. 22. 35. 29. 29. 21. 34. 26. 34. 34. 23. 35. 25. 24. 31.\n",
      " 26. 31. 32. 33. 33. 31. 20. 33. 35. 28. 24. 19. 29. 19. 28. 34. 30. 20.\n",
      " 26. 35. 35. 49. 39. 41. 58. 47. 55. 52. 40. 46. 48. 52. 59. 35. 47. 60.\n",
      " 49. 40. 46. 59. 41. 35. 37. 60. 35. 37. 36. 56. 40. 42. 35. 39. 40. 49.\n",
      " 38. 46. 40. 37. 46. 53. 42. 38. 50. 56. 41. 51. 35. 57. 41. 35. 44. 37.\n",
      " 48. 37. 50. 52. 41. 40. 58. 45. 35. 36. 55. 35. 48. 42. 40. 37. 47. 40.\n",
      " 43. 59. 60. 39. 57. 57. 38. 49. 52. 50. 59. 35. 37. 52. 48. 37. 37. 48.\n",
      " 41. 37. 39. 49. 55. 37. 35. 36. 42. 43. 45. 46. 58. 48. 37. 37. 40. 42.\n",
      " 51. 47. 36. 38. 42. 39. 38. 49. 39. 39. 54. 35. 45. 36. 52. 53. 41. 48.\n",
      " 48. 41. 41. 42. 36. 47. 38. 48. 42. 40. 57. 36. 58. 35. 38. 39. 53. 35.\n",
      " 38. 47. 47. 41. 53. 54. 39. 38. 38. 37. 42. 37. 36. 60. 54. 41. 40. 42.\n",
      " 43. 53. 47. 42. 42. 59. 58. 46. 38. 54. 60. 60. 39. 59. 37. 46. 46. 42.\n",
      " 41. 58. 42. 48. 44. 49. 57. 56. 49. 39. 47. 48. 48. 47. 45. 60. 39. 46.\n",
      " 51. 50. 36. 49.]\n"
     ]
    }
   ],
   "source": [
    "# 값 범위가 많이 다름 \n",
    "# 스케일링 필요\n",
    "\n",
    "print(X[:, 2])\n",
    "\n",
    "print(\"=\" * 100)\n",
    "\n",
    "print(X[:, 1])"
   ]
  },
  {
   "cell_type": "code",
   "execution_count": 630,
   "id": "b21f5492-d79a-45ba-88f7-00622c85b568",
   "metadata": {},
   "outputs": [],
   "source": [
    "from sklearn.preprocessing import StandardScaler \n",
    "\n",
    "scaler = StandardScaler() \n",
    "scaler.fit(X[:, 1:3])\n",
    "X_scaled = scaler.transform(X[:, 1:3])"
   ]
  },
  {
   "cell_type": "code",
   "execution_count": 631,
   "id": "1b57a06d-5a3a-4092-9f0d-8062c74931cb",
   "metadata": {},
   "outputs": [
    {
     "name": "stdout",
     "output_type": "stream",
     "text": [
      "[-1.49004624 -1.46068138 -0.78528968 -0.37418169  0.18375059 -0.34481683\n",
      "  0.41866944  2.35674998 -1.07893824 -0.13926283  0.30121002 -0.52100597\n",
      "  0.47739916 -1.51941109  0.35993973  0.30121002 -1.3138571  -1.28449224\n",
      " -1.22576253 -1.19639767 -1.40195167 -0.60910054 -0.84401939 -1.40195167\n",
      " -1.37258681 -1.46068138 -1.22576253 -1.16703281 -0.78528968 -1.51941109\n",
      "  0.12502088  1.97500684 -1.5781408  -0.75592482  0.59485858 -1.25512738\n",
      " -1.22576253 -0.60910054  0.06629116 -1.13766796 -1.54877595 -0.55037082\n",
      "  1.123426   -1.60750566  0.41866944 -1.46068138  0.27184516 -0.46227625\n",
      "  1.91627713  0.56549373 -1.1083031  -0.75592482  0.38930459 -1.37258681\n",
      " -0.34481683 -0.4329114  -0.63846539  0.27184516 -1.51941109  1.38770971\n",
      " -1.46068138  0.50676401 -0.10989798  1.47580428  0.38930459 -0.34481683\n",
      " -1.49004624  0.35993973 -0.19799255 -0.05116826  0.30121002 -1.25512738\n",
      " -1.37258681  1.27025028 -1.51941109  1.24088543 -0.52100597 -1.25512738\n",
      "  0.50676401 -1.54877595  0.30121002 -0.81465453 -0.60910054  0.53612887\n",
      " -0.2273574   1.41707457 -0.4329114   0.4480343   0.33057487 -0.57973568\n",
      "  0.33057487  1.35834485 -1.60750566 -1.22576253  0.38930459 -0.75592482\n",
      " -1.3138571   1.56389885  0.09565602 -0.96147882  0.53612887 -0.31545197\n",
      "  0.47739916  2.32738512 -1.43131652  0.06629116 -1.02020853  0.56549373\n",
      "  0.47739916  0.30121002  0.03692631  0.03692631 -0.25672226 -0.4329114\n",
      "  0.30121002 -0.37418169  0.15438573 -0.52100597 -0.31545197 -0.31545197\n",
      "  0.15438573  0.06629116  0.15438573 -0.49164111 -0.55037082 -0.25672226\n",
      " -0.13926283 -1.1083031  -1.54877595  0.41866944 -0.34481683 -1.13766796\n",
      "  0.50676401 -0.05116826 -0.4329114  -0.19799255  0.35993973  1.09406114\n",
      " -0.31545197 -1.3138571   0.4480343  -0.05116826 -0.31545197  0.56549373\n",
      " -1.3138571   0.56549373  0.77104772 -1.16703281 -0.25672226  0.12502088\n",
      " -1.60750566 -0.72655996  0.18375059 -0.57973568 -0.66783025 -1.60750566\n",
      " -0.31545197  0.15438573 -1.16703281  1.91627713  0.88850715  0.59485858\n",
      " -1.07893824 -0.93211396 -0.02180341  0.47739916 -0.4329114   0.03692631\n",
      "  2.29802026 -0.66783025  0.53612887  1.32898     1.41707457 -0.78528968\n",
      "  0.06629116 -1.22576253 -0.66783025 -1.40195167 -1.37258681 -1.04957339\n",
      " -1.5781408   0.03692631  1.38770971 -0.78528968 -0.28608712 -0.10989798\n",
      "  0.35993973 -0.84401939  0.06629116 -1.1083031   0.41866944 -1.28449224\n",
      " -0.78528968  0.00756145  0.56549373 -0.78528968  0.27184516 -0.99084367\n",
      "  0.30121002 -1.40195167 -0.9027491   0.12502088  1.88691227  0.03692631\n",
      "  0.917872   -0.66783025  1.76945285  1.29961514  2.12183112 -1.40195167\n",
      "  0.77104772  2.35674998 -0.81465453 -0.34481683 -0.78528968  1.123426\n",
      " -0.13926283  0.2424803   0.77104772  2.15119598  0.30121002  0.62422344\n",
      "  2.18056084  0.94723686 -0.28608712 -0.49164111  1.65199342  1.85754742\n",
      "  0.06629116  0.30121002  2.26865541 -0.81465453  1.09406114  0.47739916\n",
      "  1.24088543  0.27184516 -0.37418169  0.30121002  0.35993973  2.15119598\n",
      "  2.32738512 -0.31545197  0.53612887  1.00596657  0.06629116  2.23929055\n",
      " -0.57973568  1.53453399 -0.52100597  0.80041258 -0.9027491  -0.52100597\n",
      "  1.88691227  2.23929055 -0.75592482  0.59485858  0.06629116 -0.37418169\n",
      "  0.74168287  1.7988177   0.21311545  2.18056084  1.62262856  0.06629116\n",
      "  0.59485858  1.123426    0.15438573  0.12502088  2.18056084 -0.25672226\n",
      "  1.85754742  0.18375059 -0.81465453  1.06469629 -1.28449224  0.12502088\n",
      "  0.03692631  0.53612887 -0.93211396 -0.99084367  0.53612887 -0.25672226\n",
      "  0.00756145 -1.43131652  2.09246627  0.68295315 -0.2273574   2.0043717\n",
      "  0.27184516  0.2424803   1.88691227  0.56549373 -0.9027491   0.21311545\n",
      " -0.37418169 -0.19799255  0.09565602  1.24088543  0.27184516  1.38770971\n",
      " -0.93211396  0.12502088  1.97500684  0.27184516 -0.28608712 -0.46227625\n",
      "  1.88691227  1.27025028  1.62262856 -0.57973568  0.00756145  0.77104772\n",
      " -0.57973568  2.09246627  0.27184516  0.15438573  1.00596657 -0.4329114\n",
      " -1.1083031  -0.28608712  2.0043717   0.35993973 -0.52100597 -1.16703281\n",
      "  1.7988177  -0.28608712  0.06629116  0.15438573  1.41707457  1.09406114\n",
      " -0.55037082  1.44643942 -0.13926283 -0.13926283 -0.28608712 -0.46227625\n",
      "  2.18056084  0.27184516 -0.4329114   1.53453399  1.00596657  0.15438573\n",
      " -0.13926283 -0.55037082  1.03533143 -0.19799255  0.06629116  1.123426\n",
      "  0.21311545 -0.25672226  1.27025028  0.15438573  0.59485858 -0.37418169\n",
      "  0.85914229 -1.04957339  0.00756145  0.06629116  0.03692631 -0.46227625\n",
      "  1.74008799 -1.04957339 -0.57973568  0.27184516  1.00596657 -1.19639767\n",
      " -0.66783025  0.53612887  0.03692631 -1.28449224 -0.69719511  0.38930459\n",
      "  0.09565602  1.76945285  0.30121002 -1.1083031   0.12502088 -0.49164111\n",
      "  0.50676401 -1.37258681 -0.16862769 -1.07893824  2.03373655 -1.22576253\n",
      " -1.07893824 -0.28608712 -0.9027491   0.03692631 -1.04957339 -1.02020853\n",
      " -1.07893824 -1.37258681 -0.72655996 -0.81465453 -0.31545197 -0.84401939\n",
      " -1.37258681 -1.46068138 -1.07893824 -0.99084367]\n",
      "====================================================================================================\n",
      "[-1.78179743 -0.25358736 -1.11320552 -1.01769239 -1.78179743 -1.01769239\n",
      " -1.01769239 -0.54012675 -1.20871865 -0.25358736 -1.11320552 -1.11320552\n",
      " -1.6862843  -0.54012675 -1.87731056 -0.82666613  0.89257019  0.70154394\n",
      "  0.79705706  0.98808332  0.70154394  0.89257019  0.98808332  0.70154394\n",
      "  0.79705706  0.89257019  1.08359645  0.89257019 -0.82666613 -0.63563988\n",
      " -0.63563988 -1.01769239 -1.59077117 -0.92217926 -1.01769239 -0.25358736\n",
      " -0.44461362 -0.73115301 -1.11320552 -1.01769239 -1.01769239 -0.44461362\n",
      " -0.25358736 -0.73115301 -0.92217926 -1.39974491 -1.20871865 -1.01769239\n",
      " -0.73115301 -0.63563988 -1.30423178 -1.87731056 -0.82666613 -0.25358736\n",
      " -1.01769239 -1.30423178 -1.39974491 -0.92217926 -1.49525804 -0.54012675\n",
      " -1.01769239 -1.20871865 -1.39974491 -0.54012675  2.03872775 -1.30423178\n",
      " -1.30423178 -1.39974491 -1.49525804 -0.63563988 -1.20871865 -1.30423178\n",
      " -1.6862843  -0.44461362 -0.54012675 -0.34910049 -1.87731056 -1.49525804\n",
      " -0.92217926 -1.11320552 -0.73115301  0.12846516 -1.6862843  -0.25358736\n",
      " -0.73115301 -0.63563988 -1.30423178 -0.92217926 -1.11320552 -0.25358736\n",
      " -1.49525804 -0.73115301 -1.11320552 -0.82666613 -0.82666613 -0.25358736\n",
      " -0.25358736 -0.92217926 -0.25358736 -0.92217926 -1.01769239 -0.92217926\n",
      " -0.54012675 -0.44461362 -1.78179743 -1.59077117 -1.11320552 -1.01769239\n",
      " -1.11320552  0.03295203  0.12846516 -0.0625611   0.03295203 -0.0625611\n",
      "  0.41500455  0.22397829 -0.25358736 -0.15807423  0.22397829  0.31949142\n",
      " -0.15807423 -0.0625611   0.22397829 -0.25358736  0.31949142  0.12846516\n",
      "  0.41500455 -1.11320552 -0.73115301 -1.11320552 -0.63563988 -0.44461362\n",
      " -0.73115301 -1.59077117 -0.92217926 -1.39974491 -1.6862843  -0.73115301\n",
      " -0.92217926 -1.78179743 -1.78179743 -1.87731056 -0.25358736 -0.73115301\n",
      " -0.34910049 -1.30423178 -1.01769239  0.31949142 -0.82666613 -1.6862843\n",
      " -1.11320552  0.31949142 -0.63563988 -0.15807423  0.22397829 -0.63563988\n",
      "  0.79705706 -0.82666613 -1.11320552 -0.54012675 -0.54012675 -1.20871865\n",
      " -0.0625611  -0.25358736 -0.44461362 -1.87731056 -1.49525804 -0.25358736\n",
      " -0.82666613 -0.82666613 -1.59077117 -0.34910049 -1.11320552 -0.34910049\n",
      " -0.34910049 -1.39974491 -0.25358736 -1.20871865 -1.30423178 -0.63563988\n",
      " -1.11320552 -0.63563988 -0.54012675 -0.44461362 -0.44461362 -0.63563988\n",
      " -1.6862843  -0.44461362 -0.25358736 -0.92217926 -1.30423178 -1.78179743\n",
      " -0.82666613 -1.78179743 -0.92217926 -0.34910049 -0.73115301 -1.6862843\n",
      " -1.11320552 -0.25358736 -0.25358736  1.08359645  0.12846516  0.31949142\n",
      "  1.94321462  0.89257019  1.65667523  1.37013584  0.22397829  0.79705706\n",
      "  0.98808332  1.37013584  2.03872775 -0.25358736  0.89257019  2.13424088\n",
      "  1.08359645  0.22397829  0.79705706  2.03872775  0.31949142 -0.25358736\n",
      " -0.0625611   2.13424088 -0.25358736 -0.0625611  -0.15807423  1.75218836\n",
      "  0.22397829  0.41500455 -0.25358736  0.12846516  0.22397829  1.08359645\n",
      "  0.03295203  0.79705706  0.22397829 -0.0625611   0.79705706  1.46564897\n",
      "  0.41500455  0.03295203  1.17910958  1.75218836  0.31949142  1.27462271\n",
      " -0.25358736  1.84770149  0.31949142 -0.25358736  0.60603081 -0.0625611\n",
      "  0.98808332 -0.0625611   1.17910958  1.37013584  0.31949142  0.22397829\n",
      "  1.94321462  0.70154394 -0.25358736 -0.15807423  1.65667523 -0.25358736\n",
      "  0.98808332  0.41500455  0.22397829 -0.0625611   0.89257019  0.22397829\n",
      "  0.51051768  2.03872775  2.13424088  0.12846516  1.84770149  1.84770149\n",
      "  0.03295203  1.08359645  1.37013584  1.17910958  2.03872775 -0.25358736\n",
      " -0.0625611   1.37013584  0.98808332 -0.0625611  -0.0625611   0.98808332\n",
      "  0.31949142 -0.0625611   0.12846516  1.08359645  1.65667523 -0.0625611\n",
      " -0.25358736 -0.15807423  0.41500455  0.51051768  0.70154394  0.79705706\n",
      "  1.94321462  0.98808332 -0.0625611  -0.0625611   0.22397829  0.41500455\n",
      "  1.27462271  0.89257019 -0.15807423  0.03295203  0.41500455  0.12846516\n",
      "  0.03295203  1.08359645  0.12846516  0.12846516  1.5611621  -0.25358736\n",
      "  0.70154394 -0.15807423  1.37013584  1.46564897  0.31949142  0.98808332\n",
      "  0.98808332  0.31949142  0.31949142  0.41500455 -0.15807423  0.89257019\n",
      "  0.03295203  0.98808332  0.41500455  0.22397829  1.84770149 -0.15807423\n",
      "  1.94321462 -0.25358736  0.03295203  0.12846516  1.46564897 -0.25358736\n",
      "  0.03295203  0.89257019  0.89257019  0.31949142  1.46564897  1.5611621\n",
      "  0.12846516  0.03295203  0.03295203 -0.0625611   0.41500455 -0.0625611\n",
      " -0.15807423  2.13424088  1.5611621   0.31949142  0.22397829  0.41500455\n",
      "  0.51051768  1.46564897  0.89257019  0.41500455  0.41500455  2.03872775\n",
      "  1.94321462  0.79705706  0.03295203  1.5611621   2.13424088  2.13424088\n",
      "  0.12846516  2.03872775 -0.0625611   0.79705706  0.79705706  0.41500455\n",
      "  0.31949142  1.94321462  0.41500455  0.98808332  0.60603081  1.08359645\n",
      "  1.84770149  1.75218836  1.08359645  0.12846516  0.89257019  0.98808332\n",
      "  0.98808332  0.89257019  0.70154394  2.13424088  0.12846516  0.79705706\n",
      "  1.27462271  1.17910958 -0.15807423  1.08359645]\n"
     ]
    }
   ],
   "source": [
    "print(X_scaled[:, 1])\n",
    "\n",
    "print(\"=\" * 100)\n",
    "\n",
    "print(X_scaled[:, 0])"
   ]
  },
  {
   "cell_type": "code",
   "execution_count": 632,
   "id": "5428c1dd-a09b-4de4-b256-d1af4d2479a8",
   "metadata": {},
   "outputs": [],
   "source": [
    "X_scaled = np.hstack([np.ones([400, 1]), X_scaled ])"
   ]
  },
  {
   "cell_type": "code",
   "execution_count": 633,
   "id": "c2176a8a-bfc8-4753-a9de-238403048a56",
   "metadata": {},
   "outputs": [],
   "source": [
    "X_train, X_test, y_train, y_test = train_test_split(X_scaled, y, test_size = 0.2)"
   ]
  },
  {
   "cell_type": "code",
   "execution_count": 634,
   "id": "429ff065-e6b0-4639-acb6-e060d934dc6f",
   "metadata": {},
   "outputs": [
    {
     "name": "stdout",
     "output_type": "stream",
     "text": [
      "(320, 3) (320, 1)\n"
     ]
    }
   ],
   "source": [
    "print(X_train.shape, y_train.shape)"
   ]
  },
  {
   "cell_type": "markdown",
   "id": "e8441d3b-589b-4baa-be88-7bc3f75366a3",
   "metadata": {},
   "source": [
    "### 4. 학습데이터에 대해 로지스틱회귀 모델 구성"
   ]
  },
  {
   "cell_type": "code",
   "execution_count": 636,
   "id": "7a9c237a-48fe-4785-9239-10df76c4f900",
   "metadata": {},
   "outputs": [],
   "source": [
    "# 예측함수 : Sigmoid 함수 > σ(w0 + w1x1 + w2x2)\n",
    "# 앞에서 만들어 낸 변수 기반으로 만들어 내기 \n",
    "\n",
    "# 시그모이드 함수 \n",
    "def h(x,w):\n",
    "    return 1/(1 + np.exp(-x*w))"
   ]
  },
  {
   "cell_type": "markdown",
   "id": "d022d643-da7b-4dbc-a276-dc2587d390ec",
   "metadata": {},
   "source": [
    "### 5. 경사하강법을 이용해서 모델 학습하고, 파라미터 값 출력"
   ]
  },
  {
   "cell_type": "code",
   "execution_count": 638,
   "id": "838cbff1-1cfe-4837-a7d8-89e380221b17",
   "metadata": {},
   "outputs": [
    {
     "data": {
      "text/plain": [
       "(320, 1)"
      ]
     },
     "execution_count": 638,
     "metadata": {},
     "output_type": "execute_result"
    }
   ],
   "source": [
    "h(X_train,w).shape"
   ]
  },
  {
   "cell_type": "code",
   "execution_count": 639,
   "id": "35496c40-2858-4e32-8713-2656120acb6e",
   "metadata": {
    "scrolled": true
   },
   "outputs": [
    {
     "name": "stdout",
     "output_type": "stream",
     "text": [
      "w0 :  -1.2466220369826733\n",
      "w1 :  2.283653086441942\n",
      "w2 :  1.2557215742049526\n"
     ]
    }
   ],
   "source": [
    "w = np.zeros([3,1])\n",
    "\n",
    "alpha = 0.01\n",
    "\n",
    "w = np.asmatrix(w)\n",
    "X_train = np.asmatrix(X_train)\n",
    "y_train = np.asmatrix(y_train)\n",
    "\n",
    "\n",
    "# 로그우도함수 미분 > -X.T*(y - h(X,w))\n",
    "for i in range(10000):\n",
    "    df = -X_train.T*(y_train - h(X_train,w) )\n",
    "    w = w - alpha*df\n",
    "\n",
    "print(\"w0 : \", w[0, 0])\n",
    "print(\"w1 : \", w[1, 0])\n",
    "print(\"w2 : \", w[2, 0])\n"
   ]
  },
  {
   "cell_type": "markdown",
   "id": "8497c468-9c59-4cfb-b837-f1fa86813a96",
   "metadata": {},
   "source": [
    "### 6. 모델의 시각화"
   ]
  },
  {
   "cell_type": "code",
   "execution_count": 641,
   "id": "7c2962b3-19fa-42a6-a401-e5cf5eab0509",
   "metadata": {},
   "outputs": [],
   "source": [
    "X_train = np.asarray(X_train)\n",
    "y_train = np.asarray(y_train)\n",
    "\n",
    "C1 = np.where(y_train == 1)[0]\n",
    "C0 = np.where(y_train == 0)[0]"
   ]
  },
  {
   "cell_type": "code",
   "execution_count": 642,
   "id": "8ff37b3a-157c-48b1-a2a6-88207aa58195",
   "metadata": {},
   "outputs": [
    {
     "data": {
      "image/png": "[encoded data removed]",
      "text/plain": [
       "<Figure size 640x480 with 1 Axes>"
      ]
     },
     "metadata": {},
     "output_type": "display_data"
    }
   ],
   "source": [
    "xp = np.linspace(-2,2.25,100).reshape(-1,1)\n",
    "yp = - w[1,0]/w[2,0]*xp - w[0,0]/w[2,0]\n",
    "\n",
    "plt.plot(X_train[C1, 1], X_train[C1, 2], 'go', markersize = 4, label = \"1\")\n",
    "plt.plot(X_train[C0, 1], X_train[C0, 2], 'bo', markersize = 4, label = \"0\")\n",
    "plt.plot(xp, yp, 'r', linewidth = 4)\n",
    "plt.title('Logistic Regression(Training data)')\n",
    "plt.xlabel(\"Age\", fontsize= 12)\n",
    "plt.ylabel(\"EstimatedSalary\", fontsize= 12)\n",
    "plt.xlim([-2, 2.25])\n",
    "plt.ylim([-1.75, 2.5])\n",
    "plt.legend()\n",
    "plt.show()"
   ]
  },
  {
   "cell_type": "markdown",
   "id": "ab479d4a-7c29-4a74-b31f-78226ae7244c",
   "metadata": {},
   "source": [
    "### 7. scikit-learn Library를 이용, 모델 학습하고, 파라미터 값 출력 print(w0, w1, w2)"
   ]
  },
  {
   "cell_type": "code",
   "execution_count": 644,
   "id": "b13a0078-4f58-4b2b-812a-f5ef7de5787b",
   "metadata": {},
   "outputs": [],
   "source": [
    "clf = linear_model.LogisticRegression()"
   ]
  },
  {
   "cell_type": "code",
   "execution_count": 645,
   "id": "2ca01972-ad6a-4dd1-96d1-c98a53c4aecd",
   "metadata": {},
   "outputs": [
    {
     "data": {
      "text/html": [
       "<style>#sk-container-id-8 {color: black;}#sk-container-id-8 pre{padding: 0;}#sk-container-id-8 div.sk-toggleable {background-color: white;}#sk-container-id-8 label.sk-toggleable__label {cursor: pointer;display: block;width: 100%;margin-bottom: 0;padding: 0.3em;box-sizing: border-box;text-align: center;}#sk-container-id-8 label.sk-toggleable__label-arrow:before {content: \"▸\";float: left;margin-right: 0.25em;color: #696969;}#sk-container-id-8 label.sk-toggleable__label-arrow:hover:before {color: black;}#sk-container-id-8 div.sk-estimator:hover label.sk-toggleable__label-arrow:before {color: black;}#sk-container-id-8 div.sk-toggleable__content {max-height: 0;max-width: 0;overflow: hidden;text-align: left;background-color: #f0f8ff;}#sk-container-id-8 div.sk-toggleable__content pre {margin: 0.2em;color: black;border-radius: 0.25em;background-color: #f0f8ff;}#sk-container-id-8 input.sk-toggleable__control:checked~div.sk-toggleable__content {max-height: 200px;max-width: 100%;overflow: auto;}#sk-container-id-8 input.sk-toggleable__control:checked~label.sk-toggleable__label-arrow:before {content: \"▾\";}#sk-container-id-8 div.sk-estimator input.sk-toggleable__control:checked~label.sk-toggleable__label {background-color: #d4ebff;}#sk-container-id-8 div.sk-label input.sk-toggleable__control:checked~label.sk-toggleable__label {background-color: #d4ebff;}#sk-container-id-8 input.sk-hidden--visually {border: 0;clip: rect(1px 1px 1px 1px);clip: rect(1px, 1px, 1px, 1px);height: 1px;margin: -1px;overflow: hidden;padding: 0;position: absolute;width: 1px;}#sk-container-id-8 div.sk-estimator {font-family: monospace;background-color: #f0f8ff;border: 1px dotted black;border-radius: 0.25em;box-sizing: border-box;margin-bottom: 0.5em;}#sk-container-id-8 div.sk-estimator:hover {background-color: #d4ebff;}#sk-container-id-8 div.sk-parallel-item::after {content: \"\";width: 100%;border-bottom: 1px solid gray;flex-grow: 1;}#sk-container-id-8 div.sk-label:hover label.sk-toggleable__label {background-color: #d4ebff;}#sk-container-id-8 div.sk-serial::before {content: \"\";position: absolute;border-left: 1px solid gray;box-sizing: border-box;top: 0;bottom: 0;left: 50%;z-index: 0;}#sk-container-id-8 div.sk-serial {display: flex;flex-direction: column;align-items: center;background-color: white;padding-right: 0.2em;padding-left: 0.2em;position: relative;}#sk-container-id-8 div.sk-item {position: relative;z-index: 1;}#sk-container-id-8 div.sk-parallel {display: flex;align-items: stretch;justify-content: center;background-color: white;position: relative;}#sk-container-id-8 div.sk-item::before, #sk-container-id-8 div.sk-parallel-item::before {content: \"\";position: absolute;border-left: 1px solid gray;box-sizing: border-box;top: 0;bottom: 0;left: 50%;z-index: -1;}#sk-container-id-8 div.sk-parallel-item {display: flex;flex-direction: column;z-index: 1;position: relative;background-color: white;}#sk-container-id-8 div.sk-parallel-item:first-child::after {align-self: flex-end;width: 50%;}#sk-container-id-8 div.sk-parallel-item:last-child::after {align-self: flex-start;width: 50%;}#sk-container-id-8 div.sk-parallel-item:only-child::after {width: 0;}#sk-container-id-8 div.sk-dashed-wrapped {border: 1px dashed gray;margin: 0 0.4em 0.5em 0.4em;box-sizing: border-box;padding-bottom: 0.4em;background-color: white;}#sk-container-id-8 div.sk-label label {font-family: monospace;font-weight: bold;display: inline-block;line-height: 1.2em;}#sk-container-id-8 div.sk-label-container {text-align: center;}#sk-container-id-8 div.sk-container {/* jupyter's `normalize.less` sets `[hidden] { display: none; }` but bootstrap.min.css set `[hidden] { display: none !important; }` so we also need the `!important` here to be able to override the default hidden behavior on the sphinx rendered scikit-learn.org. See: https://github.com/scikit-learn/scikit-learn/issues/21755 */display: inline-block !important;position: relative;}#sk-container-id-8 div.sk-text-repr-fallback {display: none;}</style><div id=\"sk-container-id-8\" class=\"sk-top-container\"><div class=\"sk-text-repr-fallback\"><pre>LogisticRegression()</pre><b>In a Jupyter environment, please rerun this cell to show the HTML representation or trust the notebook. <br />On GitHub, the HTML representation is unable to render, please try loading this page with nbviewer.org.</b></div><div class=\"sk-container\" hidden><div class=\"sk-item\"><div class=\"sk-estimator sk-toggleable\"><input class=\"sk-toggleable__control sk-hidden--visually\" id=\"sk-estimator-id-8\" type=\"checkbox\" checked><label for=\"sk-estimator-id-8\" class=\"sk-toggleable__label sk-toggleable__label-arrow\">LogisticRegression</label><div class=\"sk-toggleable__content\"><pre>LogisticRegression()</pre></div></div></div></div></div>"
      ],
      "text/plain": [
       "LogisticRegression()"
      ]
     },
     "execution_count": 645,
     "metadata": {},
     "output_type": "execute_result"
    }
   ],
   "source": [
    "clf.fit(X_train[:, 1:3], np.ravel(y_train))"
   ]
  },
  {
   "cell_type": "code",
   "execution_count": 646,
   "id": "4d22826f-382d-41e4-847c-a3b0d388e0ad",
   "metadata": {},
   "outputs": [
    {
     "data": {
      "text/plain": [
       "array([[2.09872828, 1.15634787]])"
      ]
     },
     "execution_count": 646,
     "metadata": {},
     "output_type": "execute_result"
    }
   ],
   "source": [
    "clf.coef_"
   ]
  },
  {
   "cell_type": "code",
   "execution_count": 647,
   "id": "6f1b7027-3b3b-46cd-b5ae-9acb4757599b",
   "metadata": {},
   "outputs": [
    {
     "name": "stdout",
     "output_type": "stream",
     "text": [
      "w0 :  -1.185499266647376\n",
      "w1 :  2.0987282827192306\n",
      "w2 :  1.1563478720814717\n"
     ]
    }
   ],
   "source": [
    "print(\"w0 : \", clf.intercept_[0])\n",
    "print(\"w1 : \", clf.coef_[0, 0])\n",
    "print(\"w2 : \", clf.coef_[0, 1])\n"
   ]
  },
  {
   "cell_type": "markdown",
   "id": "75e31aed-d3dc-492a-82dd-125dd42b3805",
   "metadata": {},
   "source": [
    "### 8. 모델의 시각화"
   ]
  },
  {
   "cell_type": "code",
   "execution_count": 649,
   "id": "32478353-fd2a-47d2-8610-25f756755cd4",
   "metadata": {},
   "outputs": [
    {
     "data": {
      "image/png": "[encoded data removed]",
      "text/plain": [
       "<Figure size 640x480 with 1 Axes>"
      ]
     },
     "metadata": {},
     "output_type": "display_data"
    }
   ],
   "source": [
    "w0 = clf.intercept_[0]\n",
    "w1 = clf.coef_[0,0]\n",
    "w2 = clf.coef_[0,1]\n",
    "\n",
    "xp = np.linspace(-2,2.25,100).reshape(-1,1)\n",
    "yp = - w1/w2*xp - w0/w2\n",
    "\n",
    "plt.plot(X_train[C1, 1], X_train[C1, 2], 'go', markersize = 4, label = \"1\")\n",
    "plt.plot(X_train[C0, 1], X_train[C0, 2], 'bo', markersize = 4, label = \"0\")\n",
    "plt.plot(xp, yp, 'r', linewidth = 4)\n",
    "plt.title('Logistic Regression(Training data)')\n",
    "plt.xlabel(\"Age\", fontsize= 12)\n",
    "plt.ylabel(\"EstimatedSalary\", fontsize= 12)\n",
    "plt.xlim([-2, 2.25])\n",
    "plt.ylim([-1.75, 2.5])\n",
    "plt.legend()\n",
    "plt.show()"
   ]
  },
  {
   "cell_type": "markdown",
   "id": "c9342de6-a476-4399-9301-90b42cde50ed",
   "metadata": {},
   "source": [
    "### (평가외 추가 코딩) 로지스틱회귀로 얻은 예측값(y_pred)을 테스트 데이터로 평가해보기"
   ]
  },
  {
   "cell_type": "code",
   "execution_count": 651,
   "id": "32b5f22e-77db-4a83-b103-d14f8d067ad4",
   "metadata": {},
   "outputs": [
    {
     "data": {
      "text/plain": [
       "(80, 3)"
      ]
     },
     "execution_count": 651,
     "metadata": {},
     "output_type": "execute_result"
    }
   ],
   "source": [
    "X_test.shape"
   ]
  },
  {
   "cell_type": "code",
   "execution_count": 652,
   "id": "5820c53a-ad93-4aba-9358-31e379490b9f",
   "metadata": {},
   "outputs": [],
   "source": [
    "y_pred = clf.predict(X_test[:, 1:3]) # 테스트 데이터만 사용됨\n",
    "result = accuracy_score(y_test, y_pred) # 모델의 정확도"
   ]
  },
  {
   "cell_type": "code",
   "execution_count": 653,
   "id": "2426f41f-9270-4991-91ce-4370e17a2211",
   "metadata": {},
   "outputs": [
    {
     "data": {
      "text/plain": [
       "0.825"
      ]
     },
     "execution_count": 653,
     "metadata": {},
     "output_type": "execute_result"
    }
   ],
   "source": [
    "result\n",
    "\n",
    "# 꽤 높은 것을 확인 \n",
    "# 변수를 더 조작해서 넣으면 성능이 올라 갈 듯 하다 ."
   ]
  },
  {
   "cell_type": "code",
   "execution_count": 654,
   "id": "ebf4494c-9fc7-45bb-8182-f1229a3ddb46",
   "metadata": {},
   "outputs": [
    {
     "data": {
      "image/png": "[encoded data removed]",
      "text/plain": [
       "<Figure size 640x480 with 1 Axes>"
      ]
     },
     "metadata": {},
     "output_type": "display_data"
    }
   ],
   "source": [
    "X_test = np.asarray(X_test)\n",
    "y_test = np.asarray(y_test)\n",
    "\n",
    "C1 = np.where(y_test == 1)[0]\n",
    "C0 = np.where(y_test == 0)[0]\n",
    "\n",
    "w0 = clf.intercept_[0]\n",
    "w1 = clf.coef_[0,0]\n",
    "w2 = clf.coef_[0,1]\n",
    "\n",
    "xp = np.linspace(-2,2.25,100).reshape(-1,1)\n",
    "yp = - w1/w2*xp - w0/w2\n",
    "\n",
    "plt.plot(X_test[C1, 1], X_test[C1, 2], 'go', markersize = 4, label = \"1\")\n",
    "plt.plot(X_test[C0, 1], X_test[C0, 2], 'bo', markersize = 4, label = \"0\")\n",
    "plt.plot(xp, yp, 'r', linewidth = 4)\n",
    "plt.title('Logistic Regression(Test data)')\n",
    "plt.xlabel(\"Age\", fontsize= 12)\n",
    "plt.ylabel(\"EstimatedSalary\", fontsize= 12)\n",
    "plt.xlim([-2, 2.25])\n",
    "plt.ylim([-1.75, 2.5])\n",
    "plt.legend()\n",
    "plt.show()"
   ]
  },
  {
   "cell_type": "code",
   "execution_count": 655,
   "id": "f8f6fb4d-baff-4bee-8722-adc1d768ba90",
   "metadata": {},
   "outputs": [],
   "source": [
    "from sklearn.preprocessing import LabelEncoder\n",
    "\n",
    "df = pd.read_csv(\"Social_Network_Ads.csv\")\n",
    "\n",
    "le = LabelEncoder()\n",
    "\n",
    "df['Gender_encoded'] = le.fit_transform(df['Gender'])\n"
   ]
  },
  {
   "cell_type": "code",
   "execution_count": 656,
   "id": "62604305-97c4-4bcf-b1c9-a602ce03377b",
   "metadata": {},
   "outputs": [
    {
     "data": {
      "text/plain": [
       "Purchased\n",
       "0    257\n",
       "1    143\n",
       "Name: count, dtype: int64"
      ]
     },
     "execution_count": 656,
     "metadata": {},
     "output_type": "execute_result"
    }
   ],
   "source": [
    "df['Purchased'].value_counts()"
   ]
  },
  {
   "cell_type": "code",
   "execution_count": 657,
   "id": "36af3717-2d01-4ba3-8f13-b142bc92fabd",
   "metadata": {},
   "outputs": [
    {
     "data": {
      "text/plain": [
       "Gender_encoded\n",
       "0    204\n",
       "1    196\n",
       "Name: count, dtype: int64"
      ]
     },
     "execution_count": 657,
     "metadata": {},
     "output_type": "execute_result"
    }
   ],
   "source": [
    "df['Gender_encoded'].value_counts() "
   ]
  },
  {
   "cell_type": "code",
   "execution_count": 658,
   "id": "64a909a5-d1c6-4786-9a8b-13b5e0a5fe8e",
   "metadata": {},
   "outputs": [
    {
     "data": {
      "text/html": [
       "<div>\n",
       "<style scoped>\n",
       "    .dataframe tbody tr th:only-of-type {\n",
       "        vertical-align: middle;\n",
       "    }\n",
       "\n",
       "    .dataframe tbody tr th {\n",
       "        vertical-align: top;\n",
       "    }\n",
       "\n",
       "    .dataframe thead th {\n",
       "        text-align: right;\n",
       "    }\n",
       "</style>\n",
       "<table border=\"1\" class=\"dataframe\">\n",
       "  <thead>\n",
       "    <tr style=\"text-align: right;\">\n",
       "      <th></th>\n",
       "      <th>Gender</th>\n",
       "      <th>Gender_encoded</th>\n",
       "    </tr>\n",
       "  </thead>\n",
       "  <tbody>\n",
       "    <tr>\n",
       "      <th>0</th>\n",
       "      <td>Male</td>\n",
       "      <td>1</td>\n",
       "    </tr>\n",
       "    <tr>\n",
       "      <th>1</th>\n",
       "      <td>Male</td>\n",
       "      <td>1</td>\n",
       "    </tr>\n",
       "    <tr>\n",
       "      <th>2</th>\n",
       "      <td>Female</td>\n",
       "      <td>0</td>\n",
       "    </tr>\n",
       "    <tr>\n",
       "      <th>3</th>\n",
       "      <td>Female</td>\n",
       "      <td>0</td>\n",
       "    </tr>\n",
       "    <tr>\n",
       "      <th>4</th>\n",
       "      <td>Male</td>\n",
       "      <td>1</td>\n",
       "    </tr>\n",
       "  </tbody>\n",
       "</table>\n",
       "</div>"
      ],
      "text/plain": [
       "   Gender  Gender_encoded\n",
       "0    Male               1\n",
       "1    Male               1\n",
       "2  Female               0\n",
       "3  Female               0\n",
       "4    Male               1"
      ]
     },
     "execution_count": 658,
     "metadata": {},
     "output_type": "execute_result"
    }
   ],
   "source": [
    "df[['Gender', 'Gender_encoded']].head()\n",
    "# 남자가 1임"
   ]
  },
  {
   "cell_type": "code",
   "execution_count": 659,
   "id": "c9db85e1-0d78-450b-851d-479188c49534",
   "metadata": {
    "scrolled": true
   },
   "outputs": [
    {
     "data": {
      "text/plain": [
       "<BarContainer object of 2 artists>"
      ]
     },
     "execution_count": 659,
     "metadata": {},
     "output_type": "execute_result"
    },
    {
     "data": {
      "image/png": "[encoded data removed]",
      "text/plain": [
       "<Figure size 640x480 with 1 Axes>"
      ]
     },
     "metadata": {},
     "output_type": "display_data"
    }
   ],
   "source": [
    "df_Purchase_Gender = df.groupby('Gender_encoded').agg({\"Purchased\" : \"sum\"})\n",
    "plt.bar(np.ravel(df_Purchase_Gender.index), np.ravel(df_Purchase_Gender.values))\n",
    "\n",
    "# 여자가 더 많이 구매 "
   ]
  },
  {
   "cell_type": "code",
   "execution_count": 660,
   "id": "59f0ec54-f35f-4bdd-a0c2-f1623e2f53e9",
   "metadata": {},
   "outputs": [
    {
     "data": {
      "text/plain": [
       "array([[ 1.        , -1.78179743, -1.49004624],\n",
       "       [ 1.        , -0.25358736, -1.46068138],\n",
       "       [ 1.        , -1.11320552, -0.78528968],\n",
       "       ...,\n",
       "       [ 1.        ,  1.17910958, -1.46068138],\n",
       "       [ 1.        , -0.15807423, -1.07893824],\n",
       "       [ 1.        ,  1.08359645, -0.99084367]])"
      ]
     },
     "execution_count": 660,
     "metadata": {},
     "output_type": "execute_result"
    }
   ],
   "source": [
    "X_scaled"
   ]
  },
  {
   "cell_type": "code",
   "execution_count": 661,
   "id": "eb9dc35c-99c1-4655-aec0-65b241648b51",
   "metadata": {},
   "outputs": [
    {
     "name": "stdout",
     "output_type": "stream",
     "text": [
      "(320, 3) (320, 1)\n"
     ]
    }
   ],
   "source": [
    "new_X = np.hstack([X_scaled[:, 1:3], df['Gender_encoded'].values.reshape(-1, 1)])\n",
    "\n",
    "\n",
    "\n",
    "X_train, X_test, y_train, y_test = train_test_split(new_X, y, test_size = 0.2)\n",
    "\n",
    "print(X_train.shape, y_train.shape)\n",
    "\n",
    "clf = linear_model.LogisticRegression()\n",
    "clf.fit(X_train, np.ravel(y_train))\n",
    "\n",
    "y_pred = clf.predict(X_test) # 테스트 데이터만 사용됨\n",
    "result = accuracy_score(y_test, y_pred) # 모델의 정확도"
   ]
  },
  {
   "cell_type": "code",
   "execution_count": 662,
   "id": "1dd2dcb4-25c6-4c5d-bd27-a35ab4b92e24",
   "metadata": {},
   "outputs": [
    {
     "data": {
      "text/plain": [
       "0.85"
      ]
     },
     "execution_count": 662,
     "metadata": {},
     "output_type": "execute_result"
    }
   ],
   "source": [
    "result\n",
    "# 큰 변화는 없지만 약간 올라간 것이 보인다! "
   ]
  },
  {
   "cell_type": "code",
   "execution_count": null,
   "id": "b0f9eb8a-7f72-4a61-8e0f-002cc4e8795f",
   "metadata": {},
   "outputs": [],
   "source": []
  }
 ],
 "metadata": {
  "kernelspec": {
   "display_name": "Python 3 (ipykernel)",
   "language": "python",
   "name": "python3"
  },
  "language_info": {
   "codemirror_mode": {
    "name": "ipython",
    "version": 3
   },
   "file_extension": ".py",
   "mimetype": "text/x-python",
   "name": "python",
   "nbconvert_exporter": "python",
   "pygments_lexer": "ipython3",
   "version": "3.11.7"
  }
 },
 "nbformat": 4,
 "nbformat_minor": 5
}
