{
  "nbformat": 4,
  "nbformat_minor": 0,
  "metadata": {
    "colab": {
      "provenance": [],
      "authorship_tag": "ABX9TyOfMSBW+zqBf1UXLnTyl+4A",
      "include_colab_link": true
    },
    "kernelspec": {
      "name": "python3",
      "display_name": "Python 3"
    },
    "language_info": {
      "name": "python"
    }
  },
  "cells": [
    {
      "cell_type": "markdown",
      "metadata": {
        "id": "view-in-github",
        "colab_type": "text"
      },
      "source": [
        "<a href=\"https://colab.research.google.com/github/hanhyeonsung/ML_Assignments/blob/main/9%EC%A3%BC%EC%B0%A8_%EA%B3%BC%EC%A0%9C.ipynb\" target=\"_parent\"><img src=\"https://colab.research.google.com/assets/colab-badge.svg\" alt=\"Open In Colab\"/></a>"
      ]
    },
    {
      "cell_type": "code",
      "execution_count": 1,
      "metadata": {
        "id": "Tq18uhpCPEoE"
      },
      "outputs": [],
      "source": [
        "import pandas as pd\n",
        "import numpy as np\n",
        "import matplotlib.pyplot as plt\n",
        "\n",
        "from sklearn.metrics import accuracy_score\n",
        "from sklearn.neural_network import MLPClassifier"
      ]
    },
    {
      "cell_type": "code",
      "source": [
        "import tensorflow as tf"
      ],
      "metadata": {
        "id": "V3FD8ajxPpS5"
      },
      "execution_count": 2,
      "outputs": []
    },
    {
      "cell_type": "code",
      "source": [
        "train  = pd.read_csv(\"train.csv\", encoding = \"utf-8\")\n",
        "test  = pd.read_csv(\"test.csv\", encoding = \"utf-8\")"
      ],
      "metadata": {
        "id": "_hzlFDg3iL-p"
      },
      "execution_count": 7,
      "outputs": []
    },
    {
      "cell_type": "code",
      "source": [
        "sample_submission = pd.read_csv(\"sample_submission.csv\", encoding = \"utf-8\")"
      ],
      "metadata": {
        "id": "6GNWy5XUTrr1"
      },
      "execution_count": 10,
      "outputs": []
    },
    {
      "cell_type": "code",
      "source": [
        "print(train.shape)\n",
        "print(test.shape)\n",
        "print(sample_submission.shape)"
      ],
      "metadata": {
        "colab": {
          "base_uri": "https://localhost:8080/"
        },
        "id": "yAzSQX8RiVQu",
        "outputId": "ae50e2f6-dbd9-41de-c9dc-22f975d9694f"
      },
      "execution_count": 11,
      "outputs": [
        {
          "output_type": "stream",
          "name": "stdout",
          "text": [
            "(42000, 785)\n",
            "(28000, 784)\n",
            "(28000, 2)\n"
          ]
        }
      ]
    },
    {
      "cell_type": "code",
      "source": [
        "x = train.iloc[:, 1:].values\n",
        "y = train.loc[:, \"label\"].values"
      ],
      "metadata": {
        "id": "T1Mz9wwWihLV"
      },
      "execution_count": 12,
      "outputs": []
    },
    {
      "cell_type": "code",
      "source": [
        "from sklearn.model_selection import train_test_split"
      ],
      "metadata": {
        "id": "7W59uoaCjUsc"
      },
      "execution_count": 13,
      "outputs": []
    },
    {
      "cell_type": "code",
      "source": [
        "print(x.shape)\n",
        "print(y.shape)\n",
        "\n",
        "x_train , x_val, y_train, y_val = train_test_split(x, y , test_size = 0.2)\n",
        "print(x_train.shape)\n",
        "print(x_val.shape)\n",
        "print(y_train.shape)\n",
        "print(y_val.shape)"
      ],
      "metadata": {
        "colab": {
          "base_uri": "https://localhost:8080/"
        },
        "id": "vHsPwaXmjRIj",
        "outputId": "e610c523-9b10-4d58-835b-556c4192d076"
      },
      "execution_count": 14,
      "outputs": [
        {
          "output_type": "stream",
          "name": "stdout",
          "text": [
            "(42000, 784)\n",
            "(42000,)\n",
            "(33600, 784)\n",
            "(8400, 784)\n",
            "(33600,)\n",
            "(8400,)\n"
          ]
        }
      ]
    },
    {
      "cell_type": "markdown",
      "source": [
        "## 1. Image 샘플 시각화"
      ],
      "metadata": {
        "id": "deohsgxUlHrC"
      }
    },
    {
      "cell_type": "code",
      "source": [
        "fig , ax = plt.subplots(4, 4 , figsize = (8,8))\n",
        "\n",
        "for  i in range(4):\n",
        "  for j in range(4):\n",
        "    ax[i, j].imshow(x_train[i * 4 + j * 4].reshape(28, 28), cmap = 'gray')\n",
        "    ax[i, j].set_title('label = %s' % (y_train[i * 4 + j * 4]))\n",
        "    ax[i, j].set_xticks([])\n",
        "    ax[i, j].set_yticks([])"
      ],
      "metadata": {
        "colab": {
          "base_uri": "https://localhost:8080/",
          "height": 675
        },
        "id": "ZDu3ANyWj2i4",
        "outputId": "488910c0-25a7-44fe-f488-545bc05f127e"
      },
      "execution_count": 15,
      "outputs": [
        {
          "output_type": "display_data",
          "data": {
            "text/plain": [
              "<Figure size 800x800 with 16 Axes>"
            ],
            "image/png": "[encoded data removed]"
          },
          "metadata": {}
        }
      ]
    },
    {
      "cell_type": "markdown",
      "source": [
        "## 2. Scikit-learn을 이용해 모델을 학습"
      ],
      "metadata": {
        "id": "UBWhV4BClMg1"
      }
    },
    {
      "cell_type": "code",
      "source": [
        "from sklearn.linear_model import LogisticRegression\n",
        "\n",
        "clf = LogisticRegression(C = 1.0, class_weight=None, dual = False , fit_intercept=True,\n",
        "                         intercept_scaling=1, l1_ratio = None , max_iter = 100,\n",
        "                         multi_class='multinomial', n_jobs = None, penalty='l2',\n",
        "                         random_state = None , solver = 'lbfgs', tol = 0.001 , verbose  = 0,\n",
        "                         warm_start = False)\n",
        "clf.fit(x_train, y_train)\n"
      ],
      "metadata": {
        "colab": {
          "base_uri": "https://localhost:8080/",
          "height": 284
        },
        "id": "TjnEsT-Yk9J8",
        "outputId": "fc1e3881-5e6d-4f33-f490-d79cf2e0f0ce"
      },
      "execution_count": 16,
      "outputs": [
        {
          "output_type": "stream",
          "name": "stderr",
          "text": [
            "/usr/local/lib/python3.11/dist-packages/sklearn/linear_model/_logistic.py:1247: FutureWarning: 'multi_class' was deprecated in version 1.5 and will be removed in 1.7. From then on, it will always use 'multinomial'. Leave it to its default value to avoid this warning.\n",
            "  warnings.warn(\n",
            "/usr/local/lib/python3.11/dist-packages/sklearn/linear_model/_logistic.py:465: ConvergenceWarning: lbfgs failed to converge (status=1):\n",
            "STOP: TOTAL NO. of ITERATIONS REACHED LIMIT.\n",
            "\n",
            "Increase the number of iterations (max_iter) or scale the data as shown in:\n",
            "    https://scikit-learn.org/stable/modules/preprocessing.html\n",
            "Please also refer to the documentation for alternative solver options:\n",
            "    https://scikit-learn.org/stable/modules/linear_model.html#logistic-regression\n",
            "  n_iter_i = _check_optimize_result(\n"
          ]
        },
        {
          "output_type": "execute_result",
          "data": {
            "text/plain": [
              "LogisticRegression(multi_class='multinomial', tol=0.001)"
            ],
            "text/html": [
              "<style>#sk-container-id-1 {\n",
              "  /* Definition of color scheme common for light and dark mode */\n",
              "  --sklearn-color-text: #000;\n",
              "  --sklearn-color-text-muted: #666;\n",
              "  --sklearn-color-line: gray;\n",
              "  /* Definition of color scheme for unfitted estimators */\n",
              "  --sklearn-color-unfitted-level-0: #fff5e6;\n",
              "  --sklearn-color-unfitted-level-1: #f6e4d2;\n",
              "  --sklearn-color-unfitted-level-2: #ffe0b3;\n",
              "  --sklearn-color-unfitted-level-3: chocolate;\n",
              "  /* Definition of color scheme for fitted estimators */\n",
              "  --sklearn-color-fitted-level-0: #f0f8ff;\n",
              "  --sklearn-color-fitted-level-1: #d4ebff;\n",
              "  --sklearn-color-fitted-level-2: #b3dbfd;\n",
              "  --sklearn-color-fitted-level-3: cornflowerblue;\n",
              "\n",
              "  /* Specific color for light theme */\n",
              "  --sklearn-color-text-on-default-background: var(--sg-text-color, var(--theme-code-foreground, var(--jp-content-font-color1, black)));\n",
              "  --sklearn-color-background: var(--sg-background-color, var(--theme-background, var(--jp-layout-color0, white)));\n",
              "  --sklearn-color-border-box: var(--sg-text-color, var(--theme-code-foreground, var(--jp-content-font-color1, black)));\n",
              "  --sklearn-color-icon: #696969;\n",
              "\n",
              "  @media (prefers-color-scheme: dark) {\n",
              "    /* Redefinition of color scheme for dark theme */\n",
              "    --sklearn-color-text-on-default-background: var(--sg-text-color, var(--theme-code-foreground, var(--jp-content-font-color1, white)));\n",
              "    --sklearn-color-background: var(--sg-background-color, var(--theme-background, var(--jp-layout-color0, #111)));\n",
              "    --sklearn-color-border-box: var(--sg-text-color, var(--theme-code-foreground, var(--jp-content-font-color1, white)));\n",
              "    --sklearn-color-icon: #878787;\n",
              "  }\n",
              "}\n",
              "\n",
              "#sk-container-id-1 {\n",
              "  color: var(--sklearn-color-text);\n",
              "}\n",
              "\n",
              "#sk-container-id-1 pre {\n",
              "  padding: 0;\n",
              "}\n",
              "\n",
              "#sk-container-id-1 input.sk-hidden--visually {\n",
              "  border: 0;\n",
              "  clip: rect(1px 1px 1px 1px);\n",
              "  clip: rect(1px, 1px, 1px, 1px);\n",
              "  height: 1px;\n",
              "  margin: -1px;\n",
              "  overflow: hidden;\n",
              "  padding: 0;\n",
              "  position: absolute;\n",
              "  width: 1px;\n",
              "}\n",
              "\n",
              "#sk-container-id-1 div.sk-dashed-wrapped {\n",
              "  border: 1px dashed var(--sklearn-color-line);\n",
              "  margin: 0 0.4em 0.5em 0.4em;\n",
              "  box-sizing: border-box;\n",
              "  padding-bottom: 0.4em;\n",
              "  background-color: var(--sklearn-color-background);\n",
              "}\n",
              "\n",
              "#sk-container-id-1 div.sk-container {\n",
              "  /* jupyter's `normalize.less` sets `[hidden] { display: none; }`\n",
              "     but bootstrap.min.css set `[hidden] { display: none !important; }`\n",
              "     so we also need the `!important` here to be able to override the\n",
              "     default hidden behavior on the sphinx rendered scikit-learn.org.\n",
              "     See: https://github.com/scikit-learn/scikit-learn/issues/21755 */\n",
              "  display: inline-block !important;\n",
              "  position: relative;\n",
              "}\n",
              "\n",
              "#sk-container-id-1 div.sk-text-repr-fallback {\n",
              "  display: none;\n",
              "}\n",
              "\n",
              "div.sk-parallel-item,\n",
              "div.sk-serial,\n",
              "div.sk-item {\n",
              "  /* draw centered vertical line to link estimators */\n",
              "  background-image: linear-gradient(var(--sklearn-color-text-on-default-background), var(--sklearn-color-text-on-default-background));\n",
              "  background-size: 2px 100%;\n",
              "  background-repeat: no-repeat;\n",
              "  background-position: center center;\n",
              "}\n",
              "\n",
              "/* Parallel-specific style estimator block */\n",
              "\n",
              "#sk-container-id-1 div.sk-parallel-item::after {\n",
              "  content: \"\";\n",
              "  width: 100%;\n",
              "  border-bottom: 2px solid var(--sklearn-color-text-on-default-background);\n",
              "  flex-grow: 1;\n",
              "}\n",
              "\n",
              "#sk-container-id-1 div.sk-parallel {\n",
              "  display: flex;\n",
              "  align-items: stretch;\n",
              "  justify-content: center;\n",
              "  background-color: var(--sklearn-color-background);\n",
              "  position: relative;\n",
              "}\n",
              "\n",
              "#sk-container-id-1 div.sk-parallel-item {\n",
              "  display: flex;\n",
              "  flex-direction: column;\n",
              "}\n",
              "\n",
              "#sk-container-id-1 div.sk-parallel-item:first-child::after {\n",
              "  align-self: flex-end;\n",
              "  width: 50%;\n",
              "}\n",
              "\n",
              "#sk-container-id-1 div.sk-parallel-item:last-child::after {\n",
              "  align-self: flex-start;\n",
              "  width: 50%;\n",
              "}\n",
              "\n",
              "#sk-container-id-1 div.sk-parallel-item:only-child::after {\n",
              "  width: 0;\n",
              "}\n",
              "\n",
              "/* Serial-specific style estimator block */\n",
              "\n",
              "#sk-container-id-1 div.sk-serial {\n",
              "  display: flex;\n",
              "  flex-direction: column;\n",
              "  align-items: center;\n",
              "  background-color: var(--sklearn-color-background);\n",
              "  padding-right: 1em;\n",
              "  padding-left: 1em;\n",
              "}\n",
              "\n",
              "\n",
              "/* Toggleable style: style used for estimator/Pipeline/ColumnTransformer box that is\n",
              "clickable and can be expanded/collapsed.\n",
              "- Pipeline and ColumnTransformer use this feature and define the default style\n",
              "- Estimators will overwrite some part of the style using the `sk-estimator` class\n",
              "*/\n",
              "\n",
              "/* Pipeline and ColumnTransformer style (default) */\n",
              "\n",
              "#sk-container-id-1 div.sk-toggleable {\n",
              "  /* Default theme specific background. It is overwritten whether we have a\n",
              "  specific estimator or a Pipeline/ColumnTransformer */\n",
              "  background-color: var(--sklearn-color-background);\n",
              "}\n",
              "\n",
              "/* Toggleable label */\n",
              "#sk-container-id-1 label.sk-toggleable__label {\n",
              "  cursor: pointer;\n",
              "  display: flex;\n",
              "  width: 100%;\n",
              "  margin-bottom: 0;\n",
              "  padding: 0.5em;\n",
              "  box-sizing: border-box;\n",
              "  text-align: center;\n",
              "  align-items: start;\n",
              "  justify-content: space-between;\n",
              "  gap: 0.5em;\n",
              "}\n",
              "\n",
              "#sk-container-id-1 label.sk-toggleable__label .caption {\n",
              "  font-size: 0.6rem;\n",
              "  font-weight: lighter;\n",
              "  color: var(--sklearn-color-text-muted);\n",
              "}\n",
              "\n",
              "#sk-container-id-1 label.sk-toggleable__label-arrow:before {\n",
              "  /* Arrow on the left of the label */\n",
              "  content: \"▸\";\n",
              "  float: left;\n",
              "  margin-right: 0.25em;\n",
              "  color: var(--sklearn-color-icon);\n",
              "}\n",
              "\n",
              "#sk-container-id-1 label.sk-toggleable__label-arrow:hover:before {\n",
              "  color: var(--sklearn-color-text);\n",
              "}\n",
              "\n",
              "/* Toggleable content - dropdown */\n",
              "\n",
              "#sk-container-id-1 div.sk-toggleable__content {\n",
              "  max-height: 0;\n",
              "  max-width: 0;\n",
              "  overflow: hidden;\n",
              "  text-align: left;\n",
              "  /* unfitted */\n",
              "  background-color: var(--sklearn-color-unfitted-level-0);\n",
              "}\n",
              "\n",
              "#sk-container-id-1 div.sk-toggleable__content.fitted {\n",
              "  /* fitted */\n",
              "  background-color: var(--sklearn-color-fitted-level-0);\n",
              "}\n",
              "\n",
              "#sk-container-id-1 div.sk-toggleable__content pre {\n",
              "  margin: 0.2em;\n",
              "  border-radius: 0.25em;\n",
              "  color: var(--sklearn-color-text);\n",
              "  /* unfitted */\n",
              "  background-color: var(--sklearn-color-unfitted-level-0);\n",
              "}\n",
              "\n",
              "#sk-container-id-1 div.sk-toggleable__content.fitted pre {\n",
              "  /* unfitted */\n",
              "  background-color: var(--sklearn-color-fitted-level-0);\n",
              "}\n",
              "\n",
              "#sk-container-id-1 input.sk-toggleable__control:checked~div.sk-toggleable__content {\n",
              "  /* Expand drop-down */\n",
              "  max-height: 200px;\n",
              "  max-width: 100%;\n",
              "  overflow: auto;\n",
              "}\n",
              "\n",
              "#sk-container-id-1 input.sk-toggleable__control:checked~label.sk-toggleable__label-arrow:before {\n",
              "  content: \"▾\";\n",
              "}\n",
              "\n",
              "/* Pipeline/ColumnTransformer-specific style */\n",
              "\n",
              "#sk-container-id-1 div.sk-label input.sk-toggleable__control:checked~label.sk-toggleable__label {\n",
              "  color: var(--sklearn-color-text);\n",
              "  background-color: var(--sklearn-color-unfitted-level-2);\n",
              "}\n",
              "\n",
              "#sk-container-id-1 div.sk-label.fitted input.sk-toggleable__control:checked~label.sk-toggleable__label {\n",
              "  background-color: var(--sklearn-color-fitted-level-2);\n",
              "}\n",
              "\n",
              "/* Estimator-specific style */\n",
              "\n",
              "/* Colorize estimator box */\n",
              "#sk-container-id-1 div.sk-estimator input.sk-toggleable__control:checked~label.sk-toggleable__label {\n",
              "  /* unfitted */\n",
              "  background-color: var(--sklearn-color-unfitted-level-2);\n",
              "}\n",
              "\n",
              "#sk-container-id-1 div.sk-estimator.fitted input.sk-toggleable__control:checked~label.sk-toggleable__label {\n",
              "  /* fitted */\n",
              "  background-color: var(--sklearn-color-fitted-level-2);\n",
              "}\n",
              "\n",
              "#sk-container-id-1 div.sk-label label.sk-toggleable__label,\n",
              "#sk-container-id-1 div.sk-label label {\n",
              "  /* The background is the default theme color */\n",
              "  color: var(--sklearn-color-text-on-default-background);\n",
              "}\n",
              "\n",
              "/* On hover, darken the color of the background */\n",
              "#sk-container-id-1 div.sk-label:hover label.sk-toggleable__label {\n",
              "  color: var(--sklearn-color-text);\n",
              "  background-color: var(--sklearn-color-unfitted-level-2);\n",
              "}\n",
              "\n",
              "/* Label box, darken color on hover, fitted */\n",
              "#sk-container-id-1 div.sk-label.fitted:hover label.sk-toggleable__label.fitted {\n",
              "  color: var(--sklearn-color-text);\n",
              "  background-color: var(--sklearn-color-fitted-level-2);\n",
              "}\n",
              "\n",
              "/* Estimator label */\n",
              "\n",
              "#sk-container-id-1 div.sk-label label {\n",
              "  font-family: monospace;\n",
              "  font-weight: bold;\n",
              "  display: inline-block;\n",
              "  line-height: 1.2em;\n",
              "}\n",
              "\n",
              "#sk-container-id-1 div.sk-label-container {\n",
              "  text-align: center;\n",
              "}\n",
              "\n",
              "/* Estimator-specific */\n",
              "#sk-container-id-1 div.sk-estimator {\n",
              "  font-family: monospace;\n",
              "  border: 1px dotted var(--sklearn-color-border-box);\n",
              "  border-radius: 0.25em;\n",
              "  box-sizing: border-box;\n",
              "  margin-bottom: 0.5em;\n",
              "  /* unfitted */\n",
              "  background-color: var(--sklearn-color-unfitted-level-0);\n",
              "}\n",
              "\n",
              "#sk-container-id-1 div.sk-estimator.fitted {\n",
              "  /* fitted */\n",
              "  background-color: var(--sklearn-color-fitted-level-0);\n",
              "}\n",
              "\n",
              "/* on hover */\n",
              "#sk-container-id-1 div.sk-estimator:hover {\n",
              "  /* unfitted */\n",
              "  background-color: var(--sklearn-color-unfitted-level-2);\n",
              "}\n",
              "\n",
              "#sk-container-id-1 div.sk-estimator.fitted:hover {\n",
              "  /* fitted */\n",
              "  background-color: var(--sklearn-color-fitted-level-2);\n",
              "}\n",
              "\n",
              "/* Specification for estimator info (e.g. \"i\" and \"?\") */\n",
              "\n",
              "/* Common style for \"i\" and \"?\" */\n",
              "\n",
              ".sk-estimator-doc-link,\n",
              "a:link.sk-estimator-doc-link,\n",
              "a:visited.sk-estimator-doc-link {\n",
              "  float: right;\n",
              "  font-size: smaller;\n",
              "  line-height: 1em;\n",
              "  font-family: monospace;\n",
              "  background-color: var(--sklearn-color-background);\n",
              "  border-radius: 1em;\n",
              "  height: 1em;\n",
              "  width: 1em;\n",
              "  text-decoration: none !important;\n",
              "  margin-left: 0.5em;\n",
              "  text-align: center;\n",
              "  /* unfitted */\n",
              "  border: var(--sklearn-color-unfitted-level-1) 1pt solid;\n",
              "  color: var(--sklearn-color-unfitted-level-1);\n",
              "}\n",
              "\n",
              ".sk-estimator-doc-link.fitted,\n",
              "a:link.sk-estimator-doc-link.fitted,\n",
              "a:visited.sk-estimator-doc-link.fitted {\n",
              "  /* fitted */\n",
              "  border: var(--sklearn-color-fitted-level-1) 1pt solid;\n",
              "  color: var(--sklearn-color-fitted-level-1);\n",
              "}\n",
              "\n",
              "/* On hover */\n",
              "div.sk-estimator:hover .sk-estimator-doc-link:hover,\n",
              ".sk-estimator-doc-link:hover,\n",
              "div.sk-label-container:hover .sk-estimator-doc-link:hover,\n",
              ".sk-estimator-doc-link:hover {\n",
              "  /* unfitted */\n",
              "  background-color: var(--sklearn-color-unfitted-level-3);\n",
              "  color: var(--sklearn-color-background);\n",
              "  text-decoration: none;\n",
              "}\n",
              "\n",
              "div.sk-estimator.fitted:hover .sk-estimator-doc-link.fitted:hover,\n",
              ".sk-estimator-doc-link.fitted:hover,\n",
              "div.sk-label-container:hover .sk-estimator-doc-link.fitted:hover,\n",
              ".sk-estimator-doc-link.fitted:hover {\n",
              "  /* fitted */\n",
              "  background-color: var(--sklearn-color-fitted-level-3);\n",
              "  color: var(--sklearn-color-background);\n",
              "  text-decoration: none;\n",
              "}\n",
              "\n",
              "/* Span, style for the box shown on hovering the info icon */\n",
              ".sk-estimator-doc-link span {\n",
              "  display: none;\n",
              "  z-index: 9999;\n",
              "  position: relative;\n",
              "  font-weight: normal;\n",
              "  right: .2ex;\n",
              "  padding: .5ex;\n",
              "  margin: .5ex;\n",
              "  width: min-content;\n",
              "  min-width: 20ex;\n",
              "  max-width: 50ex;\n",
              "  color: var(--sklearn-color-text);\n",
              "  box-shadow: 2pt 2pt 4pt #999;\n",
              "  /* unfitted */\n",
              "  background: var(--sklearn-color-unfitted-level-0);\n",
              "  border: .5pt solid var(--sklearn-color-unfitted-level-3);\n",
              "}\n",
              "\n",
              ".sk-estimator-doc-link.fitted span {\n",
              "  /* fitted */\n",
              "  background: var(--sklearn-color-fitted-level-0);\n",
              "  border: var(--sklearn-color-fitted-level-3);\n",
              "}\n",
              "\n",
              ".sk-estimator-doc-link:hover span {\n",
              "  display: block;\n",
              "}\n",
              "\n",
              "/* \"?\"-specific style due to the `<a>` HTML tag */\n",
              "\n",
              "#sk-container-id-1 a.estimator_doc_link {\n",
              "  float: right;\n",
              "  font-size: 1rem;\n",
              "  line-height: 1em;\n",
              "  font-family: monospace;\n",
              "  background-color: var(--sklearn-color-background);\n",
              "  border-radius: 1rem;\n",
              "  height: 1rem;\n",
              "  width: 1rem;\n",
              "  text-decoration: none;\n",
              "  /* unfitted */\n",
              "  color: var(--sklearn-color-unfitted-level-1);\n",
              "  border: var(--sklearn-color-unfitted-level-1) 1pt solid;\n",
              "}\n",
              "\n",
              "#sk-container-id-1 a.estimator_doc_link.fitted {\n",
              "  /* fitted */\n",
              "  border: var(--sklearn-color-fitted-level-1) 1pt solid;\n",
              "  color: var(--sklearn-color-fitted-level-1);\n",
              "}\n",
              "\n",
              "/* On hover */\n",
              "#sk-container-id-1 a.estimator_doc_link:hover {\n",
              "  /* unfitted */\n",
              "  background-color: var(--sklearn-color-unfitted-level-3);\n",
              "  color: var(--sklearn-color-background);\n",
              "  text-decoration: none;\n",
              "}\n",
              "\n",
              "#sk-container-id-1 a.estimator_doc_link.fitted:hover {\n",
              "  /* fitted */\n",
              "  background-color: var(--sklearn-color-fitted-level-3);\n",
              "}\n",
              "</style><div id=\"sk-container-id-1\" class=\"sk-top-container\"><div class=\"sk-text-repr-fallback\"><pre>LogisticRegression(multi_class=&#x27;multinomial&#x27;, tol=0.001)</pre><b>In a Jupyter environment, please rerun this cell to show the HTML representation or trust the notebook. <br />On GitHub, the HTML representation is unable to render, please try loading this page with nbviewer.org.</b></div><div class=\"sk-container\" hidden><div class=\"sk-item\"><div class=\"sk-estimator fitted sk-toggleable\"><input class=\"sk-toggleable__control sk-hidden--visually\" id=\"sk-estimator-id-1\" type=\"checkbox\" checked><label for=\"sk-estimator-id-1\" class=\"sk-toggleable__label fitted sk-toggleable__label-arrow\"><div><div>LogisticRegression</div></div><div><a class=\"sk-estimator-doc-link fitted\" rel=\"noreferrer\" target=\"_blank\" href=\"https://scikit-learn.org/1.6/modules/generated/sklearn.linear_model.LogisticRegression.html\">?<span>Documentation for LogisticRegression</span></a><span class=\"sk-estimator-doc-link fitted\">i<span>Fitted</span></span></div></label><div class=\"sk-toggleable__content fitted\"><pre>LogisticRegression(multi_class=&#x27;multinomial&#x27;, tol=0.001)</pre></div> </div></div></div></div>"
            ]
          },
          "metadata": {},
          "execution_count": 16
        }
      ]
    },
    {
      "cell_type": "markdown",
      "source": [
        "## 3. 검증(Validation)데이터(x_val)를 prediction 하고 정확도를 평가\n"
      ],
      "metadata": {
        "id": "kuMMw5h2m7jA"
      }
    },
    {
      "cell_type": "code",
      "source": [
        "y_val_pred = clf.predict(x_val)\n",
        "print(\"Model accuracy is %0.3f\" % (accuracy_score(y_val , y_val_pred)))"
      ],
      "metadata": {
        "colab": {
          "base_uri": "https://localhost:8080/"
        },
        "id": "RJ2vBd0ymDrQ",
        "outputId": "f035d6b1-5340-4f37-c099-56787bdc41b7"
      },
      "execution_count": 17,
      "outputs": [
        {
          "output_type": "stream",
          "name": "stdout",
          "text": [
            "Model accuracy is 0.914\n"
          ]
        }
      ]
    },
    {
      "cell_type": "code",
      "source": [
        "x_val.shape"
      ],
      "metadata": {
        "id": "EDEEFx4wnoKp",
        "outputId": "adfbaf50-1573-4939-b111-732b78904dac",
        "colab": {
          "base_uri": "https://localhost:8080/"
        }
      },
      "execution_count": 18,
      "outputs": [
        {
          "output_type": "execute_result",
          "data": {
            "text/plain": [
              "(8400, 784)"
            ]
          },
          "metadata": {},
          "execution_count": 18
        }
      ]
    },
    {
      "cell_type": "code",
      "source": [
        "y_val.shape"
      ],
      "metadata": {
        "id": "kbznUFWanqII",
        "outputId": "80ae6768-2f6b-4546-fe2b-88dbe14b93ae",
        "colab": {
          "base_uri": "https://localhost:8080/"
        }
      },
      "execution_count": 19,
      "outputs": [
        {
          "output_type": "execute_result",
          "data": {
            "text/plain": [
              "(8400,)"
            ]
          },
          "metadata": {},
          "execution_count": 19
        }
      ]
    },
    {
      "cell_type": "markdown",
      "source": [
        "## 4. 옳게 분류한 이미지를 아래 format 에 맞게 시각화"
      ],
      "metadata": {
        "id": "LptIUok4nD5i"
      }
    },
    {
      "cell_type": "code",
      "source": [
        "print(\"Corretly predicted images:\")\n",
        "x_val_correct = x_val[y_val == y_val_pred , : ]\n",
        "y_val_correct = y_val[y_val == y_val_pred]\n",
        "y_val_pred_correct = y_val_pred[y_val == y_val_pred]\n",
        "\n",
        "fig , ax = plt.subplots(4, 4 , figsize = (8,8))\n",
        "\n",
        "for  i in range(4):\n",
        "  for j in range(4):\n",
        "    ax[i, j].imshow(x_val_correct[i * 4 + j * 4].reshape(28, 28), cmap = 'gray')\n",
        "    ax[i, j].set_title(f'Label:{y_val_correct[i * 4 + j * 4]},pred:{y_val_pred_correct[i * 4 + j * 4]}')\n",
        "    ax[i, j].set_xticks([])\n",
        "    ax[i, j].set_yticks([])"
      ],
      "metadata": {
        "colab": {
          "base_uri": "https://localhost:8080/",
          "height": 693
        },
        "id": "ZN1yQYg2UhxP",
        "outputId": "98c5cc6d-71eb-4cca-9f2c-4c82c848c14e"
      },
      "execution_count": 27,
      "outputs": [
        {
          "output_type": "stream",
          "name": "stdout",
          "text": [
            "Corretly predicted images:\n"
          ]
        },
        {
          "output_type": "display_data",
          "data": {
            "text/plain": [
              "<Figure size 800x800 with 16 Axes>"
            ],
            "image/png": "[encoded data removed]"
          },
          "metadata": {}
        }
      ]
    },
    {
      "cell_type": "markdown",
      "source": [
        "## 5. 잘못 분류한 이미지를 아래 format 에 맞게 시각화\n"
      ],
      "metadata": {
        "id": "by76flYyVkGG"
      }
    },
    {
      "cell_type": "code",
      "source": [
        "x_val_incorrect.shape"
      ],
      "metadata": {
        "colab": {
          "base_uri": "https://localhost:8080/"
        },
        "id": "Zw7KSFZ_WRdW",
        "outputId": "8d5cf530-adb8-4d2d-c08c-b4f41f894e35"
      },
      "execution_count": 31,
      "outputs": [
        {
          "output_type": "execute_result",
          "data": {
            "text/plain": [
              "(724, 784)"
            ]
          },
          "metadata": {},
          "execution_count": 31
        }
      ]
    },
    {
      "cell_type": "code",
      "source": [
        "print(\"Incorretly predicted images:\")\n",
        "x_val_incorrect = x_val[y_val != y_val_pred , : ]\n",
        "y_val_incorrect = y_val[y_val != y_val_pred]\n",
        "y_val_pred_incorrect = y_val_pred[y_val != y_val_pred]\n",
        "\n",
        "fig , ax = plt.subplots(4, 4 , figsize = (8,8))\n",
        "\n",
        "for  i in range(4):\n",
        "  for j in range(4):\n",
        "    ax[i, j].imshow(x_val_incorrect[i * 4 + j * 4].reshape(28, 28), cmap = 'gray')\n",
        "    ax[i, j].set_title(f'Label:{y_val_incorrect[i * 4 + j * 4]},pred:{y_val_pred_incorrect[i * 4 + j * 4]}')\n",
        "    ax[i, j].set_xticks([])\n",
        "    ax[i, j].set_yticks([])"
      ],
      "metadata": {
        "colab": {
          "base_uri": "https://localhost:8080/",
          "height": 693
        },
        "id": "MtSCwuyBVYDG",
        "outputId": "e6926f5b-9f6f-4951-f892-0d9e23ec94e6"
      },
      "execution_count": 30,
      "outputs": [
        {
          "output_type": "stream",
          "name": "stdout",
          "text": [
            "Incorretly predicted images:\n"
          ]
        },
        {
          "output_type": "display_data",
          "data": {
            "text/plain": [
              "<Figure size 800x800 with 16 Axes>"
            ],
            "image/png": "[encoded data removed]"
          },
          "metadata": {}
        }
      ]
    },
    {
      "cell_type": "markdown",
      "source": [
        "## 6. 테스트 데이터(x_test)를 사용해서 예측하기\n"
      ],
      "metadata": {
        "id": "kGRvj2JBWwZm"
      }
    },
    {
      "cell_type": "code",
      "source": [
        "x_train.shape"
      ],
      "metadata": {
        "colab": {
          "base_uri": "https://localhost:8080/"
        },
        "id": "eHpww-mDW8W2",
        "outputId": "e9d09d26-7805-4e3f-dd84-e07d99dcb20d"
      },
      "execution_count": 35,
      "outputs": [
        {
          "output_type": "execute_result",
          "data": {
            "text/plain": [
              "(33600, 784)"
            ]
          },
          "metadata": {},
          "execution_count": 35
        }
      ]
    },
    {
      "cell_type": "code",
      "source": [
        "test.shape"
      ],
      "metadata": {
        "colab": {
          "base_uri": "https://localhost:8080/"
        },
        "id": "tyIMMwouXABW",
        "outputId": "3d84e03a-980c-4eb4-f9f6-03046ae0e651"
      },
      "execution_count": 37,
      "outputs": [
        {
          "output_type": "execute_result",
          "data": {
            "text/plain": [
              "(28000, 784)"
            ]
          },
          "metadata": {},
          "execution_count": 37
        }
      ]
    },
    {
      "cell_type": "code",
      "source": [
        "preds = clf.predict(test)"
      ],
      "metadata": {
        "colab": {
          "base_uri": "https://localhost:8080/"
        },
        "id": "wnxxts63V6tw",
        "outputId": "6d3fc5df-fbef-42bf-c141-d87d974af8d4"
      },
      "execution_count": 38,
      "outputs": [
        {
          "output_type": "stream",
          "name": "stderr",
          "text": [
            "/usr/local/lib/python3.11/dist-packages/sklearn/utils/validation.py:2732: UserWarning: X has feature names, but LogisticRegression was fitted without feature names\n",
            "  warnings.warn(\n"
          ]
        }
      ]
    },
    {
      "cell_type": "markdown",
      "source": [
        "## 7. 예측값을 파일(sample_submission.csv)로 내보내기"
      ],
      "metadata": {
        "id": "mq8EP5E5XbCO"
      }
    },
    {
      "cell_type": "code",
      "source": [
        "sample_submission['Label'] = preds\n",
        "sample_submission.to_csv('sample_submission.csv', index = False)"
      ],
      "metadata": {
        "id": "MFYy-2IeWz3o"
      },
      "execution_count": 39,
      "outputs": []
    },
    {
      "cell_type": "markdown",
      "source": [
        "![image.png](data:image/png;base64,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)"
      ],
      "metadata": {
        "id": "vQiECaKXXXz3"
      }
    },
    {
      "cell_type": "code",
      "source": [],
      "metadata": {
        "id": "eSnkFWEhXPdR"
      },
      "execution_count": null,
      "outputs": []
    }
  ]
}