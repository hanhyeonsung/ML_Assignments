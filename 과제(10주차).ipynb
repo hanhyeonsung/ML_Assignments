{
 "cells": [
  {
   "cell_type": "code",
   "execution_count": 3,
   "id": "2d2d251e-0918-42f5-ae2a-6736f3775e86",
   "metadata": {},
   "outputs": [],
   "source": [
    "import numpy as np \n",
    "import matplotlib.pyplot as plt \n",
    "\n",
    "np.random.seed(0) \n",
    "samples = 1000\n",
    "\n",
    "\n",
    "\n",
    "x1 = np.random.uniform(0, 1,  samples) \n",
    "x2 = np.random.uniform(0, 1,  samples) \n",
    "\n",
    "Input = np.column_stack((x1, x2)) \n",
    "\n",
    "y = 2 * x1  + 3 * x2 - 1"
   ]
  },
  {
   "cell_type": "code",
   "execution_count": 5,
   "id": "a68ee8ea-5f5d-4d4a-8479-66daff3bd626",
   "metadata": {},
   "outputs": [],
   "source": [
    "# Sigmoid function and its derivative\n",
    "def sigmoid(x):\n",
    "    return 1 / (1 + np.exp(-x))\n",
    "\n",
    "def sigmoid_derivative(x):\n",
    "    return sigmoid(x) * (1 - sigmoid(x))"
   ]
  },
  {
   "cell_type": "code",
   "execution_count": 19,
   "id": "ea055a7e-4044-4bc1-bdea-867a21da0904",
   "metadata": {},
   "outputs": [],
   "source": [
    "# Network parameters\n",
    "\n",
    "# Input layer neurons\n",
    "input_layer_size = 2  \n",
    "\n",
    "# Hidden layer neurons\n",
    "hidden_layer_size = 3 \n",
    "\n",
    "# Output layer neurons\n",
    "output_layer_size = 1 \n",
    "\n",
    "# Weights and biases\n",
    "W1 = np.random.rand(hidden_layer_size, input_layer_size)\n",
    "b1 = np.random.rand(hidden_layer_size)\n",
    "W2 = np.random.rand(output_layer_size, hidden_layer_size)\n",
    "b2 = np.random.rand(output_layer_size)\n",
    "\n",
    "\n",
    "\n",
    "#learning rate\n",
    "alpha = 1e-2 \n",
    "\n",
    "# Epochs\n",
    "epochs = 50\n",
    "\n",
    "# Csot Function \n",
    "\n",
    "MSE_list, MAPE_list = [] ,[] "
   ]
  },
  {
   "cell_type": "code",
   "execution_count": 13,
   "id": "9014b14d-f514-4263-a7f5-a55fc2e5ff9c",
   "metadata": {},
   "outputs": [
    {
     "name": "stdout",
     "output_type": "stream",
     "text": [
      "[[0.03921054 0.02523183]\n",
      " [0.27155029 0.46185344]\n",
      " [0.72624328 0.4748717 ]]\n",
      "(3, 2)\n",
      "========================================\n",
      "[[0.33851449 0.57749619 0.85273616]]\n",
      "(1, 3)\n"
     ]
    }
   ],
   "source": [
    "print(W1) \n",
    "print(W1.shape)\n",
    "\n",
    "## w1_11 w1_12 \n",
    "## w1_21 w1_22 \n",
    "## w1_31 w1_32 \n",
    "\n",
    "print(\"=\" * 40)\n",
    "print(W2) \n",
    "\n",
    "## w2_11 w2_12 w2_13 \n",
    "\n",
    "\n",
    "print(W2.shape)"
   ]
  },
  {
   "cell_type": "code",
   "execution_count": null,
   "id": "d4c35fb5-6580-4bb2-a2f8-9f6308a5b861",
   "metadata": {},
   "outputs": [
    {
     "name": "stdout",
     "output_type": "stream",
     "text": [
      "MSE and MAPE at epoch  0  : 0.48224863699603543  , 634.5266590737501\n",
      "MSE and MAPE at epoch  5  : 0.015887063695128878  , 79.86156702316354\n"
     ]
    }
   ],
   "source": [
    "for epoch in range(epochs): \n",
    "    MSE, MAPE=  0, 0 \n",
    "    for iter in range(samples): \n",
    "        X = Input[iter]\n",
    "        \n",
    "        # Feedforward \n",
    "        Z_tilde = W1 @ X.reshape(-1, 1)  + b1.reshape(-1, 1) \n",
    "\n",
    "        Z = sigmoid(Z_tilde)\n",
    "        y_pred = W2 @ Z.reshape(-1 ,1) + b2.reshape(-1, 1) \n",
    "\n",
    "        # Calculating the error \n",
    "        # Calculation MSE \n",
    "        J = 1/2*(y_pred-y[iter]) **2\n",
    "\n",
    "        MSE += J \n",
    "\n",
    "        # Calculation MAPE \n",
    "        MAPE += np.abs((y_pred - y[iter]) / y[iter]) * 100\n",
    "\n",
    "\n",
    "        # Backpropagation \n",
    "        # Output layer --> hidden layer \n",
    "\n",
    "        dJdY = (y_pred - y[iter]) \n",
    "        dJdW2_11 , dJdW2_12 , dJdW2_13= dJdY * Z[0], dJdY * Z[1], dJdY * Z[2]\n",
    "        dJdb2_1 = dJdY \n",
    "\n",
    "        dJdZ1 , dJdZ2, dJdZ3 = dJdY * W2[0, 0] , dJdY * W2[0,1], dJdY * W2[0,2]\n",
    "        \n",
    "        # Hidden layer --> Input layer \n",
    "        \n",
    "        dJdW1_11 = dJdZ1 * X[0] * sigmoid_derivative(Z_tilde[0])\n",
    "        dJdW1_12 = dJdZ1 * X[1] * sigmoid_derivative(Z_tilde[0])\n",
    "        \n",
    "        dJdW1_21 = dJdZ2 * X[0] * sigmoid_derivative(Z_tilde[1])\n",
    "        dJdW1_22 = dJdZ2 * X[1] * sigmoid_derivative(Z_tilde[1])\n",
    "\n",
    "        dJdW1_31 = dJdZ3 * X[0] * sigmoid_derivative(Z_tilde[2])\n",
    "        dJdW1_32 = dJdZ3 * X[1] * sigmoid_derivative(Z_tilde[2])\n",
    "\n",
    "\n",
    "        dJdb1_1 = dJdZ1 * sigmoid_derivative(Z_tilde[0])\n",
    "        dJdb1_2 = dJdZ2 * sigmoid_derivative(Z_tilde[1])\n",
    "        dJdb1_3 = dJdZ3 * sigmoid_derivative(Z_tilde[2])\n",
    "\n",
    "        \n",
    "        # Update \n",
    "\n",
    "        W1[0][0] += -alpha * dJdW1_11\n",
    "        W1[0][1] += -alpha * dJdW1_12\n",
    "\n",
    "        W1[1][0] += -alpha * dJdW1_21\n",
    "        W1[1][1] += -alpha * dJdW1_22\n",
    "\n",
    "        W1[2][0] += -alpha * dJdW1_31\n",
    "        W1[2][1] += -alpha * dJdW1_32\n",
    "\n",
    "        \n",
    "        b1[0] += -alpha * dJdb1_1\n",
    "        b1[1] += -alpha * dJdb1_2\n",
    "        b1[2] += -alpha * dJdb1_3\n",
    "\n",
    "        W2[0][0] += -alpha * dJdW2_11 \n",
    "        W2[0][1] += -alpha * dJdW2_12\n",
    "        W2[0][2] += -alpha * dJdW2_13\n",
    "        # pdb.set_trace()\n",
    "        b2[0] += -alpha * dJdb2_1\n",
    "    MSE, MAPE = MSE / num_samples, MAPE / num_samples \n",
    "    MSE_list.append(np.squeeze(MSE))\n",
    "    MAPE_list.append(np.squeeze(MAPE))\n",
    "\n",
    "    if epoch % 5 ==0 or epoch == epochs - 1: \n",
    "        print(\"MSE and MAPE at epoch \", epoch , \" :\" , \n",
    "              np.squeeze(MSE), \" ,\" , np.squeeze(MAPE)) \n",
    "\n"
   ]
  },
  {
   "cell_type": "code",
   "execution_count": null,
   "id": "bb9074b5-f2fe-42e9-8f9f-fb583fe7237e",
   "metadata": {},
   "outputs": [],
   "source": []
  }
 ],
 "metadata": {
  "kernelspec": {
   "display_name": "Python 3 (ipykernel)",
   "language": "python",
   "name": "python3"
  },
  "language_info": {
   "codemirror_mode": {
    "name": "ipython",
    "version": 3
   },
   "file_extension": ".py",
   "mimetype": "text/x-python",
   "name": "python",
   "nbconvert_exporter": "python",
   "pygments_lexer": "ipython3",
   "version": "3.11.7"
  }
 },
 "nbformat": 4,
 "nbformat_minor": 5
}
